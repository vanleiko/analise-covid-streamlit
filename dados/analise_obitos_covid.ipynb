{
 "metadata": {
  "language_info": {
   "codemirror_mode": {
    "name": "ipython",
    "version": 3
   },
   "file_extension": ".py",
   "mimetype": "text/x-python",
   "name": "python",
   "nbconvert_exporter": "python",
   "pygments_lexer": "ipython3",
   "version": "3.9.1-final"
  },
  "orig_nbformat": 2,
  "kernelspec": {
   "name": "python3",
   "display_name": "Python 3.9.1 64-bit ('venv_streamlit')",
   "metadata": {
    "interpreter": {
     "hash": "2f5c78161225eac0568d6c28c4265ae51d8caa1e6c104a1d6a392f90a64e9855"
    }
   }
  }
 },
 "nbformat": 4,
 "nbformat_minor": 2,
 "cells": [
  {
   "cell_type": "code",
   "execution_count": 29,
   "metadata": {},
   "outputs": [],
   "source": [
    "import pandas as pd\n",
    "import seaborn as sns\n",
    "import matplotlib.pyplot as plt\n"
   ]
  },
  {
   "cell_type": "code",
   "execution_count": 2,
   "metadata": {},
   "outputs": [],
   "source": [
    "caminho_2019 = \"obitos-2019.csv\"\n",
    "caminho_2020 = \"obitos-2020.csv\"\n",
    "caminho_2021 = \"obitos-2021.csv\""
   ]
  },
  {
   "cell_type": "code",
   "execution_count": 3,
   "metadata": {},
   "outputs": [],
   "source": [
    "dados_2019 = pd.read_csv(caminho_2019)\n",
    "dados_2020 = pd.read_csv(caminho_2020)\n",
    "dados_2021 = pd.read_csv(caminho_2021)"
   ]
  },
  {
   "cell_type": "code",
   "execution_count": 4,
   "metadata": {},
   "outputs": [
    {
     "output_type": "stream",
     "name": "stdout",
     "text": [
      "Dados 2019: (12450, 6)\nDados 2020: (15028, 6)\nDados 2021: (9761, 6)\n"
     ]
    }
   ],
   "source": [
    "print(f\"Dados 2019: {dados_2019.shape}\")\n",
    "print(f\"Dados 2020: {dados_2020.shape}\")\n",
    "print(f\"Dados 2021: {dados_2021.shape}\")"
   ]
  },
  {
   "cell_type": "code",
   "execution_count": 5,
   "metadata": {},
   "outputs": [
    {
     "output_type": "execute_result",
     "data": {
      "text/plain": [
       "   uf tipo_doenca local_obito faixa_etaria sexo  total\n",
       "0  AC      OUTRAS   DOMICILIO          < 9    F      7\n",
       "1  AC      OUTRAS   DOMICILIO          < 9    M     15\n",
       "2  AC      OUTRAS    HOSPITAL          < 9    F     30\n",
       "3  AC      OUTRAS    HOSPITAL          < 9    M     55\n",
       "4  AC      OUTRAS    IGNORADO          < 9    M      1"
      ],
      "text/html": "<div>\n<style scoped>\n    .dataframe tbody tr th:only-of-type {\n        vertical-align: middle;\n    }\n\n    .dataframe tbody tr th {\n        vertical-align: top;\n    }\n\n    .dataframe thead th {\n        text-align: right;\n    }\n</style>\n<table border=\"1\" class=\"dataframe\">\n  <thead>\n    <tr style=\"text-align: right;\">\n      <th></th>\n      <th>uf</th>\n      <th>tipo_doenca</th>\n      <th>local_obito</th>\n      <th>faixa_etaria</th>\n      <th>sexo</th>\n      <th>total</th>\n    </tr>\n  </thead>\n  <tbody>\n    <tr>\n      <th>0</th>\n      <td>AC</td>\n      <td>OUTRAS</td>\n      <td>DOMICILIO</td>\n      <td>&lt; 9</td>\n      <td>F</td>\n      <td>7</td>\n    </tr>\n    <tr>\n      <th>1</th>\n      <td>AC</td>\n      <td>OUTRAS</td>\n      <td>DOMICILIO</td>\n      <td>&lt; 9</td>\n      <td>M</td>\n      <td>15</td>\n    </tr>\n    <tr>\n      <th>2</th>\n      <td>AC</td>\n      <td>OUTRAS</td>\n      <td>HOSPITAL</td>\n      <td>&lt; 9</td>\n      <td>F</td>\n      <td>30</td>\n    </tr>\n    <tr>\n      <th>3</th>\n      <td>AC</td>\n      <td>OUTRAS</td>\n      <td>HOSPITAL</td>\n      <td>&lt; 9</td>\n      <td>M</td>\n      <td>55</td>\n    </tr>\n    <tr>\n      <th>4</th>\n      <td>AC</td>\n      <td>OUTRAS</td>\n      <td>IGNORADO</td>\n      <td>&lt; 9</td>\n      <td>M</td>\n      <td>1</td>\n    </tr>\n  </tbody>\n</table>\n</div>"
     },
     "metadata": {},
     "execution_count": 5
    }
   ],
   "source": [
    "dados_2019.head(5)"
   ]
  },
  {
   "cell_type": "code",
   "execution_count": 6,
   "metadata": {},
   "outputs": [
    {
     "output_type": "execute_result",
     "data": {
      "text/plain": [
       "array(['AC', 'AL', 'AM', 'AP', 'BA', 'CE', 'DF', 'ES', 'GO', 'MA', 'MG',\n",
       "       'MS', 'MT', 'PA', 'PB', 'PE', 'PI', 'PR', 'RJ', 'RN', 'RO', 'RR',\n",
       "       'RS', 'SC', 'SE', 'SP', 'TO'], dtype=object)"
      ]
     },
     "metadata": {},
     "execution_count": 6
    }
   ],
   "source": [
    "dados_2019[\"uf\"].unique()"
   ]
  },
  {
   "cell_type": "code",
   "execution_count": 7,
   "metadata": {},
   "outputs": [
    {
     "output_type": "execute_result",
     "data": {
      "text/plain": [
       "array(['AC', 'AL', 'AM', 'AP', 'BA', 'CE', 'DF', 'ES', 'GO', 'MA', 'MG',\n",
       "       'MS', 'MT', 'PA', 'PB', 'PE', 'PI', 'PR', 'RJ', 'RN', 'RO', 'RR',\n",
       "       'RS', 'SC', 'SE', 'SP', 'TO'], dtype=object)"
      ]
     },
     "metadata": {},
     "execution_count": 7
    }
   ],
   "source": [
    "dados_2020[\"uf\"].unique()"
   ]
  },
  {
   "cell_type": "code",
   "execution_count": 8,
   "metadata": {},
   "outputs": [
    {
     "output_type": "execute_result",
     "data": {
      "text/plain": [
       "array(['AC', 'AL', 'AM', 'AP', 'BA', 'CE', 'DF', 'ES', 'GO', 'MA', 'MG',\n",
       "       'MS', 'MT', 'PA', 'PB', 'PE', 'PI', 'PR', 'RJ', 'RN', 'RO', 'RR',\n",
       "       'RS', 'SC', 'SE', 'SP', 'TO'], dtype=object)"
      ]
     },
     "metadata": {},
     "execution_count": 8
    }
   ],
   "source": [
    "dados_2021[\"uf\"].unique()"
   ]
  },
  {
   "cell_type": "code",
   "execution_count": 17,
   "metadata": {},
   "outputs": [
    {
     "output_type": "stream",
     "name": "stdout",
     "text": [
      "<class 'pandas.core.frame.DataFrame'>\nRangeIndex: 12450 entries, 0 to 12449\nData columns (total 6 columns):\n #   Column        Non-Null Count  Dtype \n---  ------        --------------  ----- \n 0   uf            12450 non-null  object\n 1   tipo_doenca   12450 non-null  object\n 2   local_obito   12450 non-null  object\n 3   faixa_etaria  12450 non-null  object\n 4   sexo          12446 non-null  object\n 5   total         12450 non-null  int64 \ndtypes: int64(1), object(5)\nmemory usage: 583.7+ KB\n"
     ]
    }
   ],
   "source": [
    "dados_2019.info()"
   ]
  },
  {
   "cell_type": "code",
   "execution_count": 11,
   "metadata": {},
   "outputs": [
    {
     "output_type": "execute_result",
     "data": {
      "text/plain": [
       "                             total\n",
       "tipo_doenca                       \n",
       "INDETERMINADA                 7028\n",
       "INSUFICIENCIA_RESPIRATORIA  101112\n",
       "OUTRAS                      663765\n",
       "PNEUMONIA                   226998\n",
       "SEPTICEMIA                  176129\n",
       "SRAG                          1504"
      ],
      "text/html": "<div>\n<style scoped>\n    .dataframe tbody tr th:only-of-type {\n        vertical-align: middle;\n    }\n\n    .dataframe tbody tr th {\n        vertical-align: top;\n    }\n\n    .dataframe thead th {\n        text-align: right;\n    }\n</style>\n<table border=\"1\" class=\"dataframe\">\n  <thead>\n    <tr style=\"text-align: right;\">\n      <th></th>\n      <th>total</th>\n    </tr>\n    <tr>\n      <th>tipo_doenca</th>\n      <th></th>\n    </tr>\n  </thead>\n  <tbody>\n    <tr>\n      <th>INDETERMINADA</th>\n      <td>7028</td>\n    </tr>\n    <tr>\n      <th>INSUFICIENCIA_RESPIRATORIA</th>\n      <td>101112</td>\n    </tr>\n    <tr>\n      <th>OUTRAS</th>\n      <td>663765</td>\n    </tr>\n    <tr>\n      <th>PNEUMONIA</th>\n      <td>226998</td>\n    </tr>\n    <tr>\n      <th>SEPTICEMIA</th>\n      <td>176129</td>\n    </tr>\n    <tr>\n      <th>SRAG</th>\n      <td>1504</td>\n    </tr>\n  </tbody>\n</table>\n</div>"
     },
     "metadata": {},
     "execution_count": 11
    }
   ],
   "source": [
    "total_obitos_2019 = dados_2019.groupby(\"tipo_doenca\").sum()\n",
    "total_obitos_2019"
   ]
  },
  {
   "cell_type": "code",
   "execution_count": 12,
   "metadata": {},
   "outputs": [
    {
     "output_type": "execute_result",
     "data": {
      "text/plain": [
       "                             total\n",
       "tipo_doenca                       \n",
       "COVID                       197289\n",
       "INDETERMINADA                 9799\n",
       "INSUFICIENCIA_RESPIRATORIA   99796\n",
       "OUTRAS                      696927\n",
       "PNEUMONIA                   183287\n",
       "SEPTICEMIA                  163968\n",
       "SRAG                         16682"
      ],
      "text/html": "<div>\n<style scoped>\n    .dataframe tbody tr th:only-of-type {\n        vertical-align: middle;\n    }\n\n    .dataframe tbody tr th {\n        vertical-align: top;\n    }\n\n    .dataframe thead th {\n        text-align: right;\n    }\n</style>\n<table border=\"1\" class=\"dataframe\">\n  <thead>\n    <tr style=\"text-align: right;\">\n      <th></th>\n      <th>total</th>\n    </tr>\n    <tr>\n      <th>tipo_doenca</th>\n      <th></th>\n    </tr>\n  </thead>\n  <tbody>\n    <tr>\n      <th>COVID</th>\n      <td>197289</td>\n    </tr>\n    <tr>\n      <th>INDETERMINADA</th>\n      <td>9799</td>\n    </tr>\n    <tr>\n      <th>INSUFICIENCIA_RESPIRATORIA</th>\n      <td>99796</td>\n    </tr>\n    <tr>\n      <th>OUTRAS</th>\n      <td>696927</td>\n    </tr>\n    <tr>\n      <th>PNEUMONIA</th>\n      <td>183287</td>\n    </tr>\n    <tr>\n      <th>SEPTICEMIA</th>\n      <td>163968</td>\n    </tr>\n    <tr>\n      <th>SRAG</th>\n      <td>16682</td>\n    </tr>\n  </tbody>\n</table>\n</div>"
     },
     "metadata": {},
     "execution_count": 12
    }
   ],
   "source": [
    "total_obitos_2020 = dados_2020.groupby(\"tipo_doenca\").sum()\n",
    "total_obitos_2020\n"
   ]
  },
  {
   "cell_type": "code",
   "execution_count": 13,
   "metadata": {},
   "outputs": [
    {
     "output_type": "execute_result",
     "data": {
      "text/plain": [
       "                             total\n",
       "tipo_doenca                       \n",
       "COVID                        86003\n",
       "INDETERMINADA                 2064\n",
       "INSUFICIENCIA_RESPIRATORIA   17933\n",
       "OUTRAS                      133367\n",
       "PNEUMONIA                    32878\n",
       "SEPTICEMIA                   32273\n",
       "SRAG                          3118"
      ],
      "text/html": "<div>\n<style scoped>\n    .dataframe tbody tr th:only-of-type {\n        vertical-align: middle;\n    }\n\n    .dataframe tbody tr th {\n        vertical-align: top;\n    }\n\n    .dataframe thead th {\n        text-align: right;\n    }\n</style>\n<table border=\"1\" class=\"dataframe\">\n  <thead>\n    <tr style=\"text-align: right;\">\n      <th></th>\n      <th>total</th>\n    </tr>\n    <tr>\n      <th>tipo_doenca</th>\n      <th></th>\n    </tr>\n  </thead>\n  <tbody>\n    <tr>\n      <th>COVID</th>\n      <td>86003</td>\n    </tr>\n    <tr>\n      <th>INDETERMINADA</th>\n      <td>2064</td>\n    </tr>\n    <tr>\n      <th>INSUFICIENCIA_RESPIRATORIA</th>\n      <td>17933</td>\n    </tr>\n    <tr>\n      <th>OUTRAS</th>\n      <td>133367</td>\n    </tr>\n    <tr>\n      <th>PNEUMONIA</th>\n      <td>32878</td>\n    </tr>\n    <tr>\n      <th>SEPTICEMIA</th>\n      <td>32273</td>\n    </tr>\n    <tr>\n      <th>SRAG</th>\n      <td>3118</td>\n    </tr>\n  </tbody>\n</table>\n</div>"
     },
     "metadata": {},
     "execution_count": 13
    }
   ],
   "source": [
    "total_obitos_2021 = dados_2021.groupby(\"tipo_doenca\").sum()\n",
    "total_obitos_2021"
   ]
  },
  {
   "cell_type": "code",
   "execution_count": 58,
   "metadata": {},
   "outputs": [],
   "source": [
    "def grafico_comparativo(causa):\n",
    "\n",
    "    if causa == \"COVID\":\n",
    "        total_2019 = 0\n",
    "        total_2020 = dados_2020.groupby(\"tipo_doenca\").sum()\n",
    "        total_2021 = dados_2021.groupby(\"tipo_doenca\").sum()\n",
    "        lista = [total_2019, int(total_2020.loc[\"COVID\"]), int(total_2021.loc[\"COVID\"])]\n",
    "    else:\n",
    "        total_2019 = dados_2019.groupby(\"tipo_doenca\").sum()\n",
    "        total_2020 = dados_2020.groupby(\"tipo_doenca\").sum()\n",
    "        total_2021 = dados_2021.groupby(\"tipo_doenca\").sum()\n",
    "        lista = [int(total_2019.loc[causa]), int(total_2020.loc[causa]), int(total_2021.loc[causa])]\n",
    "    \n",
    "    dados = pd.DataFrame({\"Total\": lista, \"Ano\": [2019, 2020, 2021]})\n",
    "\n",
    "    plt.figure(figsize=(10,6))\n",
    "    plt.title(f\"Total de óbitos - {causa}\", fontsize=18, fontweight=\"bold\")\n",
    "    sns.barplot(x=\"Ano\", y=\"Total\", data=dados)\n",
    "    plt.xlabel(\"Ano\", fontsize=16)\n",
    "    plt.ylabel(\"Óbitos\", fontsize=16)\n",
    "\n",
    "    "
   ]
  },
  {
   "cell_type": "code",
   "execution_count": 60,
   "metadata": {},
   "outputs": [
    {
     "output_type": "display_data",
     "data": {
      "text/plain": "<Figure size 720x432 with 1 Axes>",
      "image/svg+xml": "<?xml version=\"1.0\" encoding=\"utf-8\" standalone=\"no\"?>\r\n<!DOCTYPE svg PUBLIC \"-//W3C//DTD SVG 1.1//EN\"\r\n  \"http://www.w3.org/Graphics/SVG/1.1/DTD/svg11.dtd\">\r\n<!-- Created with matplotlib (https://matplotlib.org/) -->\r\n<svg height=\"396.400313pt\" version=\"1.1\" viewBox=\"0 0 630.6975 396.400313\" width=\"630.6975pt\" xmlns=\"http://www.w3.org/2000/svg\" xmlns:xlink=\"http://www.w3.org/1999/xlink\">\r\n <metadata>\r\n  <rdf:RDF xmlns:cc=\"http://creativecommons.org/ns#\" xmlns:dc=\"http://purl.org/dc/elements/1.1/\" xmlns:rdf=\"http://www.w3.org/1999/02/22-rdf-syntax-ns#\">\r\n   <cc:Work>\r\n    <dc:type rdf:resource=\"http://purl.org/dc/dcmitype/StillImage\"/>\r\n    <dc:date>2021-03-20T11:08:15.508765</dc:date>\r\n    <dc:format>image/svg+xml</dc:format>\r\n    <dc:creator>\r\n     <cc:Agent>\r\n      <dc:title>Matplotlib v3.3.4, https://matplotlib.org/</dc:title>\r\n     </cc:Agent>\r\n    </dc:creator>\r\n   </cc:Work>\r\n  </rdf:RDF>\r\n </metadata>\r\n <defs>\r\n  <style type=\"text/css\">*{stroke-linecap:butt;stroke-linejoin:round;}</style>\r\n </defs>\r\n <g id=\"figure_1\">\r\n  <g id=\"patch_1\">\r\n   <path d=\"M 0 396.400313 \r\nL 630.6975 396.400313 \r\nL 630.6975 0 \r\nL 0 0 \r\nz\r\n\" style=\"fill:none;\"/>\r\n  </g>\r\n  <g id=\"axes_1\">\r\n   <g id=\"patch_2\">\r\n    <path d=\"M 65.4975 353.037188 \r\nL 623.4975 353.037188 \r\nL 623.4975 26.877187 \r\nL 65.4975 26.877187 \r\nz\r\n\" style=\"fill:#ffffff;\"/>\r\n   </g>\r\n   <g id=\"patch_3\">\r\n    <path clip-path=\"url(#p0d4f643016)\" d=\"M 84.0975 353.037188 \r\nL 232.8975 353.037188 \r\nL 232.8975 325.03183 \r\nL 84.0975 325.03183 \r\nz\r\n\" style=\"fill:#3274a1;\"/>\r\n   </g>\r\n   <g id=\"patch_4\">\r\n    <path clip-path=\"url(#p0d4f643016)\" d=\"M 270.0975 353.037188 \r\nL 418.8975 353.037188 \r\nL 418.8975 42.408616 \r\nL 270.0975 42.408616 \r\nz\r\n\" style=\"fill:#e1812c;\"/>\r\n   </g>\r\n   <g id=\"patch_5\">\r\n    <path clip-path=\"url(#p0d4f643016)\" d=\"M 456.0975 353.037188 \r\nL 604.8975 353.037188 \r\nL 604.8975 294.978209 \r\nL 456.0975 294.978209 \r\nz\r\n\" style=\"fill:#3a923a;\"/>\r\n   </g>\r\n   <g id=\"matplotlib.axis_1\">\r\n    <g id=\"xtick_1\">\r\n     <g id=\"line2d_1\">\r\n      <defs>\r\n       <path d=\"M 0 0 \r\nL 0 3.5 \r\n\" id=\"m8c28fbd197\" style=\"stroke:#000000;stroke-width:0.8;\"/>\r\n      </defs>\r\n      <g>\r\n       <use style=\"stroke:#000000;stroke-width:0.8;\" x=\"158.4975\" xlink:href=\"#m8c28fbd197\" y=\"353.037188\"/>\r\n      </g>\r\n     </g>\r\n     <g id=\"text_1\">\r\n      <!-- 2019 -->\r\n      <g transform=\"translate(145.7725 367.635625)scale(0.1 -0.1)\">\r\n       <defs>\r\n        <path d=\"M 19.1875 8.296875 \r\nL 53.609375 8.296875 \r\nL 53.609375 0 \r\nL 7.328125 0 \r\nL 7.328125 8.296875 \r\nQ 12.9375 14.109375 22.625 23.890625 \r\nQ 32.328125 33.6875 34.8125 36.53125 \r\nQ 39.546875 41.84375 41.421875 45.53125 \r\nQ 43.3125 49.21875 43.3125 52.78125 \r\nQ 43.3125 58.59375 39.234375 62.25 \r\nQ 35.15625 65.921875 28.609375 65.921875 \r\nQ 23.96875 65.921875 18.8125 64.3125 \r\nQ 13.671875 62.703125 7.8125 59.421875 \r\nL 7.8125 69.390625 \r\nQ 13.765625 71.78125 18.9375 73 \r\nQ 24.125 74.21875 28.421875 74.21875 \r\nQ 39.75 74.21875 46.484375 68.546875 \r\nQ 53.21875 62.890625 53.21875 53.421875 \r\nQ 53.21875 48.921875 51.53125 44.890625 \r\nQ 49.859375 40.875 45.40625 35.40625 \r\nQ 44.1875 33.984375 37.640625 27.21875 \r\nQ 31.109375 20.453125 19.1875 8.296875 \r\nz\r\n\" id=\"DejaVuSans-50\"/>\r\n        <path d=\"M 31.78125 66.40625 \r\nQ 24.171875 66.40625 20.328125 58.90625 \r\nQ 16.5 51.421875 16.5 36.375 \r\nQ 16.5 21.390625 20.328125 13.890625 \r\nQ 24.171875 6.390625 31.78125 6.390625 \r\nQ 39.453125 6.390625 43.28125 13.890625 \r\nQ 47.125 21.390625 47.125 36.375 \r\nQ 47.125 51.421875 43.28125 58.90625 \r\nQ 39.453125 66.40625 31.78125 66.40625 \r\nz\r\nM 31.78125 74.21875 \r\nQ 44.046875 74.21875 50.515625 64.515625 \r\nQ 56.984375 54.828125 56.984375 36.375 \r\nQ 56.984375 17.96875 50.515625 8.265625 \r\nQ 44.046875 -1.421875 31.78125 -1.421875 \r\nQ 19.53125 -1.421875 13.0625 8.265625 \r\nQ 6.59375 17.96875 6.59375 36.375 \r\nQ 6.59375 54.828125 13.0625 64.515625 \r\nQ 19.53125 74.21875 31.78125 74.21875 \r\nz\r\n\" id=\"DejaVuSans-48\"/>\r\n        <path d=\"M 12.40625 8.296875 \r\nL 28.515625 8.296875 \r\nL 28.515625 63.921875 \r\nL 10.984375 60.40625 \r\nL 10.984375 69.390625 \r\nL 28.421875 72.90625 \r\nL 38.28125 72.90625 \r\nL 38.28125 8.296875 \r\nL 54.390625 8.296875 \r\nL 54.390625 0 \r\nL 12.40625 0 \r\nz\r\n\" id=\"DejaVuSans-49\"/>\r\n        <path d=\"M 10.984375 1.515625 \r\nL 10.984375 10.5 \r\nQ 14.703125 8.734375 18.5 7.8125 \r\nQ 22.3125 6.890625 25.984375 6.890625 \r\nQ 35.75 6.890625 40.890625 13.453125 \r\nQ 46.046875 20.015625 46.78125 33.40625 \r\nQ 43.953125 29.203125 39.59375 26.953125 \r\nQ 35.25 24.703125 29.984375 24.703125 \r\nQ 19.046875 24.703125 12.671875 31.3125 \r\nQ 6.296875 37.9375 6.296875 49.421875 \r\nQ 6.296875 60.640625 12.9375 67.421875 \r\nQ 19.578125 74.21875 30.609375 74.21875 \r\nQ 43.265625 74.21875 49.921875 64.515625 \r\nQ 56.59375 54.828125 56.59375 36.375 \r\nQ 56.59375 19.140625 48.40625 8.859375 \r\nQ 40.234375 -1.421875 26.421875 -1.421875 \r\nQ 22.703125 -1.421875 18.890625 -0.6875 \r\nQ 15.09375 0.046875 10.984375 1.515625 \r\nz\r\nM 30.609375 32.421875 \r\nQ 37.25 32.421875 41.125 36.953125 \r\nQ 45.015625 41.5 45.015625 49.421875 \r\nQ 45.015625 57.28125 41.125 61.84375 \r\nQ 37.25 66.40625 30.609375 66.40625 \r\nQ 23.96875 66.40625 20.09375 61.84375 \r\nQ 16.21875 57.28125 16.21875 49.421875 \r\nQ 16.21875 41.5 20.09375 36.953125 \r\nQ 23.96875 32.421875 30.609375 32.421875 \r\nz\r\n\" id=\"DejaVuSans-57\"/>\r\n       </defs>\r\n       <use xlink:href=\"#DejaVuSans-50\"/>\r\n       <use x=\"63.623047\" xlink:href=\"#DejaVuSans-48\"/>\r\n       <use x=\"127.246094\" xlink:href=\"#DejaVuSans-49\"/>\r\n       <use x=\"190.869141\" xlink:href=\"#DejaVuSans-57\"/>\r\n      </g>\r\n     </g>\r\n    </g>\r\n    <g id=\"xtick_2\">\r\n     <g id=\"line2d_2\">\r\n      <g>\r\n       <use style=\"stroke:#000000;stroke-width:0.8;\" x=\"344.4975\" xlink:href=\"#m8c28fbd197\" y=\"353.037188\"/>\r\n      </g>\r\n     </g>\r\n     <g id=\"text_2\">\r\n      <!-- 2020 -->\r\n      <g transform=\"translate(331.7725 367.635625)scale(0.1 -0.1)\">\r\n       <use xlink:href=\"#DejaVuSans-50\"/>\r\n       <use x=\"63.623047\" xlink:href=\"#DejaVuSans-48\"/>\r\n       <use x=\"127.246094\" xlink:href=\"#DejaVuSans-50\"/>\r\n       <use x=\"190.869141\" xlink:href=\"#DejaVuSans-48\"/>\r\n      </g>\r\n     </g>\r\n    </g>\r\n    <g id=\"xtick_3\">\r\n     <g id=\"line2d_3\">\r\n      <g>\r\n       <use style=\"stroke:#000000;stroke-width:0.8;\" x=\"530.4975\" xlink:href=\"#m8c28fbd197\" y=\"353.037188\"/>\r\n      </g>\r\n     </g>\r\n     <g id=\"text_3\">\r\n      <!-- 2021 -->\r\n      <g transform=\"translate(517.7725 367.635625)scale(0.1 -0.1)\">\r\n       <use xlink:href=\"#DejaVuSans-50\"/>\r\n       <use x=\"63.623047\" xlink:href=\"#DejaVuSans-48\"/>\r\n       <use x=\"127.246094\" xlink:href=\"#DejaVuSans-50\"/>\r\n       <use x=\"190.869141\" xlink:href=\"#DejaVuSans-49\"/>\r\n      </g>\r\n     </g>\r\n    </g>\r\n    <g id=\"text_4\">\r\n     <!-- Ano -->\r\n     <g transform=\"translate(329.06 385.872813)scale(0.16 -0.16)\">\r\n      <defs>\r\n       <path d=\"M 34.1875 63.1875 \r\nL 20.796875 26.90625 \r\nL 47.609375 26.90625 \r\nz\r\nM 28.609375 72.90625 \r\nL 39.796875 72.90625 \r\nL 67.578125 0 \r\nL 57.328125 0 \r\nL 50.6875 18.703125 \r\nL 17.828125 18.703125 \r\nL 11.1875 0 \r\nL 0.78125 0 \r\nz\r\n\" id=\"DejaVuSans-65\"/>\r\n       <path d=\"M 54.890625 33.015625 \r\nL 54.890625 0 \r\nL 45.90625 0 \r\nL 45.90625 32.71875 \r\nQ 45.90625 40.484375 42.875 44.328125 \r\nQ 39.84375 48.1875 33.796875 48.1875 \r\nQ 26.515625 48.1875 22.3125 43.546875 \r\nQ 18.109375 38.921875 18.109375 30.90625 \r\nL 18.109375 0 \r\nL 9.078125 0 \r\nL 9.078125 54.6875 \r\nL 18.109375 54.6875 \r\nL 18.109375 46.1875 \r\nQ 21.34375 51.125 25.703125 53.5625 \r\nQ 30.078125 56 35.796875 56 \r\nQ 45.21875 56 50.046875 50.171875 \r\nQ 54.890625 44.34375 54.890625 33.015625 \r\nz\r\n\" id=\"DejaVuSans-110\"/>\r\n       <path d=\"M 30.609375 48.390625 \r\nQ 23.390625 48.390625 19.1875 42.75 \r\nQ 14.984375 37.109375 14.984375 27.296875 \r\nQ 14.984375 17.484375 19.15625 11.84375 \r\nQ 23.34375 6.203125 30.609375 6.203125 \r\nQ 37.796875 6.203125 41.984375 11.859375 \r\nQ 46.1875 17.53125 46.1875 27.296875 \r\nQ 46.1875 37.015625 41.984375 42.703125 \r\nQ 37.796875 48.390625 30.609375 48.390625 \r\nz\r\nM 30.609375 56 \r\nQ 42.328125 56 49.015625 48.375 \r\nQ 55.71875 40.765625 55.71875 27.296875 \r\nQ 55.71875 13.875 49.015625 6.21875 \r\nQ 42.328125 -1.421875 30.609375 -1.421875 \r\nQ 18.84375 -1.421875 12.171875 6.21875 \r\nQ 5.515625 13.875 5.515625 27.296875 \r\nQ 5.515625 40.765625 12.171875 48.375 \r\nQ 18.84375 56 30.609375 56 \r\nz\r\n\" id=\"DejaVuSans-111\"/>\r\n      </defs>\r\n      <use xlink:href=\"#DejaVuSans-65\"/>\r\n      <use x=\"68.408203\" xlink:href=\"#DejaVuSans-110\"/>\r\n      <use x=\"131.787109\" xlink:href=\"#DejaVuSans-111\"/>\r\n     </g>\r\n    </g>\r\n   </g>\r\n   <g id=\"matplotlib.axis_2\">\r\n    <g id=\"ytick_1\">\r\n     <g id=\"line2d_4\">\r\n      <defs>\r\n       <path d=\"M 0 0 \r\nL -3.5 0 \r\n\" id=\"mc346dbd96e\" style=\"stroke:#000000;stroke-width:0.8;\"/>\r\n      </defs>\r\n      <g>\r\n       <use style=\"stroke:#000000;stroke-width:0.8;\" x=\"65.4975\" xlink:href=\"#mc346dbd96e\" y=\"353.037188\"/>\r\n      </g>\r\n     </g>\r\n     <g id=\"text_5\">\r\n      <!-- 0 -->\r\n      <g transform=\"translate(52.135 356.836406)scale(0.1 -0.1)\">\r\n       <use xlink:href=\"#DejaVuSans-48\"/>\r\n      </g>\r\n     </g>\r\n    </g>\r\n    <g id=\"ytick_2\">\r\n     <g id=\"line2d_5\">\r\n      <g>\r\n       <use style=\"stroke:#000000;stroke-width:0.8;\" x=\"65.4975\" xlink:href=\"#mc346dbd96e\" y=\"315.796021\"/>\r\n      </g>\r\n     </g>\r\n     <g id=\"text_6\">\r\n      <!-- 2000 -->\r\n      <g transform=\"translate(33.0475 319.59524)scale(0.1 -0.1)\">\r\n       <use xlink:href=\"#DejaVuSans-50\"/>\r\n       <use x=\"63.623047\" xlink:href=\"#DejaVuSans-48\"/>\r\n       <use x=\"127.246094\" xlink:href=\"#DejaVuSans-48\"/>\r\n       <use x=\"190.869141\" xlink:href=\"#DejaVuSans-48\"/>\r\n      </g>\r\n     </g>\r\n    </g>\r\n    <g id=\"ytick_3\">\r\n     <g id=\"line2d_6\">\r\n      <g>\r\n       <use style=\"stroke:#000000;stroke-width:0.8;\" x=\"65.4975\" xlink:href=\"#mc346dbd96e\" y=\"278.554854\"/>\r\n      </g>\r\n     </g>\r\n     <g id=\"text_7\">\r\n      <!-- 4000 -->\r\n      <g transform=\"translate(33.0475 282.354073)scale(0.1 -0.1)\">\r\n       <defs>\r\n        <path d=\"M 37.796875 64.3125 \r\nL 12.890625 25.390625 \r\nL 37.796875 25.390625 \r\nz\r\nM 35.203125 72.90625 \r\nL 47.609375 72.90625 \r\nL 47.609375 25.390625 \r\nL 58.015625 25.390625 \r\nL 58.015625 17.1875 \r\nL 47.609375 17.1875 \r\nL 47.609375 0 \r\nL 37.796875 0 \r\nL 37.796875 17.1875 \r\nL 4.890625 17.1875 \r\nL 4.890625 26.703125 \r\nz\r\n\" id=\"DejaVuSans-52\"/>\r\n       </defs>\r\n       <use xlink:href=\"#DejaVuSans-52\"/>\r\n       <use x=\"63.623047\" xlink:href=\"#DejaVuSans-48\"/>\r\n       <use x=\"127.246094\" xlink:href=\"#DejaVuSans-48\"/>\r\n       <use x=\"190.869141\" xlink:href=\"#DejaVuSans-48\"/>\r\n      </g>\r\n     </g>\r\n    </g>\r\n    <g id=\"ytick_4\">\r\n     <g id=\"line2d_7\">\r\n      <g>\r\n       <use style=\"stroke:#000000;stroke-width:0.8;\" x=\"65.4975\" xlink:href=\"#mc346dbd96e\" y=\"241.313687\"/>\r\n      </g>\r\n     </g>\r\n     <g id=\"text_8\">\r\n      <!-- 6000 -->\r\n      <g transform=\"translate(33.0475 245.112906)scale(0.1 -0.1)\">\r\n       <defs>\r\n        <path d=\"M 33.015625 40.375 \r\nQ 26.375 40.375 22.484375 35.828125 \r\nQ 18.609375 31.296875 18.609375 23.390625 \r\nQ 18.609375 15.53125 22.484375 10.953125 \r\nQ 26.375 6.390625 33.015625 6.390625 \r\nQ 39.65625 6.390625 43.53125 10.953125 \r\nQ 47.40625 15.53125 47.40625 23.390625 \r\nQ 47.40625 31.296875 43.53125 35.828125 \r\nQ 39.65625 40.375 33.015625 40.375 \r\nz\r\nM 52.59375 71.296875 \r\nL 52.59375 62.3125 \r\nQ 48.875 64.0625 45.09375 64.984375 \r\nQ 41.3125 65.921875 37.59375 65.921875 \r\nQ 27.828125 65.921875 22.671875 59.328125 \r\nQ 17.53125 52.734375 16.796875 39.40625 \r\nQ 19.671875 43.65625 24.015625 45.921875 \r\nQ 28.375 48.1875 33.59375 48.1875 \r\nQ 44.578125 48.1875 50.953125 41.515625 \r\nQ 57.328125 34.859375 57.328125 23.390625 \r\nQ 57.328125 12.15625 50.6875 5.359375 \r\nQ 44.046875 -1.421875 33.015625 -1.421875 \r\nQ 20.359375 -1.421875 13.671875 8.265625 \r\nQ 6.984375 17.96875 6.984375 36.375 \r\nQ 6.984375 53.65625 15.1875 63.9375 \r\nQ 23.390625 74.21875 37.203125 74.21875 \r\nQ 40.921875 74.21875 44.703125 73.484375 \r\nQ 48.484375 72.75 52.59375 71.296875 \r\nz\r\n\" id=\"DejaVuSans-54\"/>\r\n       </defs>\r\n       <use xlink:href=\"#DejaVuSans-54\"/>\r\n       <use x=\"63.623047\" xlink:href=\"#DejaVuSans-48\"/>\r\n       <use x=\"127.246094\" xlink:href=\"#DejaVuSans-48\"/>\r\n       <use x=\"190.869141\" xlink:href=\"#DejaVuSans-48\"/>\r\n      </g>\r\n     </g>\r\n    </g>\r\n    <g id=\"ytick_5\">\r\n     <g id=\"line2d_8\">\r\n      <g>\r\n       <use style=\"stroke:#000000;stroke-width:0.8;\" x=\"65.4975\" xlink:href=\"#mc346dbd96e\" y=\"204.072521\"/>\r\n      </g>\r\n     </g>\r\n     <g id=\"text_9\">\r\n      <!-- 8000 -->\r\n      <g transform=\"translate(33.0475 207.871739)scale(0.1 -0.1)\">\r\n       <defs>\r\n        <path d=\"M 31.78125 34.625 \r\nQ 24.75 34.625 20.71875 30.859375 \r\nQ 16.703125 27.09375 16.703125 20.515625 \r\nQ 16.703125 13.921875 20.71875 10.15625 \r\nQ 24.75 6.390625 31.78125 6.390625 \r\nQ 38.8125 6.390625 42.859375 10.171875 \r\nQ 46.921875 13.96875 46.921875 20.515625 \r\nQ 46.921875 27.09375 42.890625 30.859375 \r\nQ 38.875 34.625 31.78125 34.625 \r\nz\r\nM 21.921875 38.8125 \r\nQ 15.578125 40.375 12.03125 44.71875 \r\nQ 8.5 49.078125 8.5 55.328125 \r\nQ 8.5 64.0625 14.71875 69.140625 \r\nQ 20.953125 74.21875 31.78125 74.21875 \r\nQ 42.671875 74.21875 48.875 69.140625 \r\nQ 55.078125 64.0625 55.078125 55.328125 \r\nQ 55.078125 49.078125 51.53125 44.71875 \r\nQ 48 40.375 41.703125 38.8125 \r\nQ 48.828125 37.15625 52.796875 32.3125 \r\nQ 56.78125 27.484375 56.78125 20.515625 \r\nQ 56.78125 9.90625 50.3125 4.234375 \r\nQ 43.84375 -1.421875 31.78125 -1.421875 \r\nQ 19.734375 -1.421875 13.25 4.234375 \r\nQ 6.78125 9.90625 6.78125 20.515625 \r\nQ 6.78125 27.484375 10.78125 32.3125 \r\nQ 14.796875 37.15625 21.921875 38.8125 \r\nz\r\nM 18.3125 54.390625 \r\nQ 18.3125 48.734375 21.84375 45.5625 \r\nQ 25.390625 42.390625 31.78125 42.390625 \r\nQ 38.140625 42.390625 41.71875 45.5625 \r\nQ 45.3125 48.734375 45.3125 54.390625 \r\nQ 45.3125 60.0625 41.71875 63.234375 \r\nQ 38.140625 66.40625 31.78125 66.40625 \r\nQ 25.390625 66.40625 21.84375 63.234375 \r\nQ 18.3125 60.0625 18.3125 54.390625 \r\nz\r\n\" id=\"DejaVuSans-56\"/>\r\n       </defs>\r\n       <use xlink:href=\"#DejaVuSans-56\"/>\r\n       <use x=\"63.623047\" xlink:href=\"#DejaVuSans-48\"/>\r\n       <use x=\"127.246094\" xlink:href=\"#DejaVuSans-48\"/>\r\n       <use x=\"190.869141\" xlink:href=\"#DejaVuSans-48\"/>\r\n      </g>\r\n     </g>\r\n    </g>\r\n    <g id=\"ytick_6\">\r\n     <g id=\"line2d_9\">\r\n      <g>\r\n       <use style=\"stroke:#000000;stroke-width:0.8;\" x=\"65.4975\" xlink:href=\"#mc346dbd96e\" y=\"166.831354\"/>\r\n      </g>\r\n     </g>\r\n     <g id=\"text_10\">\r\n      <!-- 10000 -->\r\n      <g transform=\"translate(26.685 170.630573)scale(0.1 -0.1)\">\r\n       <use xlink:href=\"#DejaVuSans-49\"/>\r\n       <use x=\"63.623047\" xlink:href=\"#DejaVuSans-48\"/>\r\n       <use x=\"127.246094\" xlink:href=\"#DejaVuSans-48\"/>\r\n       <use x=\"190.869141\" xlink:href=\"#DejaVuSans-48\"/>\r\n       <use x=\"254.492188\" xlink:href=\"#DejaVuSans-48\"/>\r\n      </g>\r\n     </g>\r\n    </g>\r\n    <g id=\"ytick_7\">\r\n     <g id=\"line2d_10\">\r\n      <g>\r\n       <use style=\"stroke:#000000;stroke-width:0.8;\" x=\"65.4975\" xlink:href=\"#mc346dbd96e\" y=\"129.590187\"/>\r\n      </g>\r\n     </g>\r\n     <g id=\"text_11\">\r\n      <!-- 12000 -->\r\n      <g transform=\"translate(26.685 133.389406)scale(0.1 -0.1)\">\r\n       <use xlink:href=\"#DejaVuSans-49\"/>\r\n       <use x=\"63.623047\" xlink:href=\"#DejaVuSans-50\"/>\r\n       <use x=\"127.246094\" xlink:href=\"#DejaVuSans-48\"/>\r\n       <use x=\"190.869141\" xlink:href=\"#DejaVuSans-48\"/>\r\n       <use x=\"254.492188\" xlink:href=\"#DejaVuSans-48\"/>\r\n      </g>\r\n     </g>\r\n    </g>\r\n    <g id=\"ytick_8\">\r\n     <g id=\"line2d_11\">\r\n      <g>\r\n       <use style=\"stroke:#000000;stroke-width:0.8;\" x=\"65.4975\" xlink:href=\"#mc346dbd96e\" y=\"92.349021\"/>\r\n      </g>\r\n     </g>\r\n     <g id=\"text_12\">\r\n      <!-- 14000 -->\r\n      <g transform=\"translate(26.685 96.148239)scale(0.1 -0.1)\">\r\n       <use xlink:href=\"#DejaVuSans-49\"/>\r\n       <use x=\"63.623047\" xlink:href=\"#DejaVuSans-52\"/>\r\n       <use x=\"127.246094\" xlink:href=\"#DejaVuSans-48\"/>\r\n       <use x=\"190.869141\" xlink:href=\"#DejaVuSans-48\"/>\r\n       <use x=\"254.492188\" xlink:href=\"#DejaVuSans-48\"/>\r\n      </g>\r\n     </g>\r\n    </g>\r\n    <g id=\"ytick_9\">\r\n     <g id=\"line2d_12\">\r\n      <g>\r\n       <use style=\"stroke:#000000;stroke-width:0.8;\" x=\"65.4975\" xlink:href=\"#mc346dbd96e\" y=\"55.107854\"/>\r\n      </g>\r\n     </g>\r\n     <g id=\"text_13\">\r\n      <!-- 16000 -->\r\n      <g transform=\"translate(26.685 58.907073)scale(0.1 -0.1)\">\r\n       <use xlink:href=\"#DejaVuSans-49\"/>\r\n       <use x=\"63.623047\" xlink:href=\"#DejaVuSans-54\"/>\r\n       <use x=\"127.246094\" xlink:href=\"#DejaVuSans-48\"/>\r\n       <use x=\"190.869141\" xlink:href=\"#DejaVuSans-48\"/>\r\n       <use x=\"254.492188\" xlink:href=\"#DejaVuSans-48\"/>\r\n      </g>\r\n     </g>\r\n    </g>\r\n    <g id=\"text_14\">\r\n     <!-- Óbitos -->\r\n     <g transform=\"translate(19.3575 215.754688)rotate(-90)scale(0.16 -0.16)\">\r\n      <defs>\r\n       <path d=\"M 39.40625 66.21875 \r\nQ 28.65625 66.21875 22.328125 58.203125 \r\nQ 16.015625 50.203125 16.015625 36.375 \r\nQ 16.015625 22.609375 22.328125 14.59375 \r\nQ 28.65625 6.59375 39.40625 6.59375 \r\nQ 50.140625 6.59375 56.421875 14.59375 \r\nQ 62.703125 22.609375 62.703125 36.375 \r\nQ 62.703125 50.203125 56.421875 58.203125 \r\nQ 50.140625 66.21875 39.40625 66.21875 \r\nz\r\nM 39.40625 74.21875 \r\nQ 54.734375 74.21875 63.90625 63.9375 \r\nQ 73.09375 53.65625 73.09375 36.375 \r\nQ 73.09375 19.140625 63.90625 8.859375 \r\nQ 54.734375 -1.421875 39.40625 -1.421875 \r\nQ 24.03125 -1.421875 14.8125 8.828125 \r\nQ 5.609375 19.09375 5.609375 36.375 \r\nQ 5.609375 53.65625 14.8125 63.9375 \r\nQ 24.03125 74.21875 39.40625 74.21875 \r\nz\r\nM 42.0625 92.515625 \r\nL 51.09375 92.515625 \r\nL 39.96875 79.625 \r\nL 32.484375 79.625 \r\nz\r\n\" id=\"DejaVuSans-211\"/>\r\n       <path d=\"M 48.6875 27.296875 \r\nQ 48.6875 37.203125 44.609375 42.84375 \r\nQ 40.53125 48.484375 33.40625 48.484375 \r\nQ 26.265625 48.484375 22.1875 42.84375 \r\nQ 18.109375 37.203125 18.109375 27.296875 \r\nQ 18.109375 17.390625 22.1875 11.75 \r\nQ 26.265625 6.109375 33.40625 6.109375 \r\nQ 40.53125 6.109375 44.609375 11.75 \r\nQ 48.6875 17.390625 48.6875 27.296875 \r\nz\r\nM 18.109375 46.390625 \r\nQ 20.953125 51.265625 25.265625 53.625 \r\nQ 29.59375 56 35.59375 56 \r\nQ 45.5625 56 51.78125 48.09375 \r\nQ 58.015625 40.1875 58.015625 27.296875 \r\nQ 58.015625 14.40625 51.78125 6.484375 \r\nQ 45.5625 -1.421875 35.59375 -1.421875 \r\nQ 29.59375 -1.421875 25.265625 0.953125 \r\nQ 20.953125 3.328125 18.109375 8.203125 \r\nL 18.109375 0 \r\nL 9.078125 0 \r\nL 9.078125 75.984375 \r\nL 18.109375 75.984375 \r\nz\r\n\" id=\"DejaVuSans-98\"/>\r\n       <path d=\"M 9.421875 54.6875 \r\nL 18.40625 54.6875 \r\nL 18.40625 0 \r\nL 9.421875 0 \r\nz\r\nM 9.421875 75.984375 \r\nL 18.40625 75.984375 \r\nL 18.40625 64.59375 \r\nL 9.421875 64.59375 \r\nz\r\n\" id=\"DejaVuSans-105\"/>\r\n       <path d=\"M 18.3125 70.21875 \r\nL 18.3125 54.6875 \r\nL 36.8125 54.6875 \r\nL 36.8125 47.703125 \r\nL 18.3125 47.703125 \r\nL 18.3125 18.015625 \r\nQ 18.3125 11.328125 20.140625 9.421875 \r\nQ 21.96875 7.515625 27.59375 7.515625 \r\nL 36.8125 7.515625 \r\nL 36.8125 0 \r\nL 27.59375 0 \r\nQ 17.1875 0 13.234375 3.875 \r\nQ 9.28125 7.765625 9.28125 18.015625 \r\nL 9.28125 47.703125 \r\nL 2.6875 47.703125 \r\nL 2.6875 54.6875 \r\nL 9.28125 54.6875 \r\nL 9.28125 70.21875 \r\nz\r\n\" id=\"DejaVuSans-116\"/>\r\n       <path d=\"M 44.28125 53.078125 \r\nL 44.28125 44.578125 \r\nQ 40.484375 46.53125 36.375 47.5 \r\nQ 32.28125 48.484375 27.875 48.484375 \r\nQ 21.1875 48.484375 17.84375 46.4375 \r\nQ 14.5 44.390625 14.5 40.28125 \r\nQ 14.5 37.15625 16.890625 35.375 \r\nQ 19.28125 33.59375 26.515625 31.984375 \r\nL 29.59375 31.296875 \r\nQ 39.15625 29.25 43.1875 25.515625 \r\nQ 47.21875 21.78125 47.21875 15.09375 \r\nQ 47.21875 7.46875 41.1875 3.015625 \r\nQ 35.15625 -1.421875 24.609375 -1.421875 \r\nQ 20.21875 -1.421875 15.453125 -0.5625 \r\nQ 10.6875 0.296875 5.421875 2 \r\nL 5.421875 11.28125 \r\nQ 10.40625 8.6875 15.234375 7.390625 \r\nQ 20.0625 6.109375 24.8125 6.109375 \r\nQ 31.15625 6.109375 34.5625 8.28125 \r\nQ 37.984375 10.453125 37.984375 14.40625 \r\nQ 37.984375 18.0625 35.515625 20.015625 \r\nQ 33.0625 21.96875 24.703125 23.78125 \r\nL 21.578125 24.515625 \r\nQ 13.234375 26.265625 9.515625 29.90625 \r\nQ 5.8125 33.546875 5.8125 39.890625 \r\nQ 5.8125 47.609375 11.28125 51.796875 \r\nQ 16.75 56 26.8125 56 \r\nQ 31.78125 56 36.171875 55.265625 \r\nQ 40.578125 54.546875 44.28125 53.078125 \r\nz\r\n\" id=\"DejaVuSans-115\"/>\r\n      </defs>\r\n      <use xlink:href=\"#DejaVuSans-211\"/>\r\n      <use x=\"78.710938\" xlink:href=\"#DejaVuSans-98\"/>\r\n      <use x=\"142.1875\" xlink:href=\"#DejaVuSans-105\"/>\r\n      <use x=\"169.970703\" xlink:href=\"#DejaVuSans-116\"/>\r\n      <use x=\"209.179688\" xlink:href=\"#DejaVuSans-111\"/>\r\n      <use x=\"270.361328\" xlink:href=\"#DejaVuSans-115\"/>\r\n     </g>\r\n    </g>\r\n   </g>\r\n   <g id=\"line2d_13\">\r\n    <path clip-path=\"url(#p0d4f643016)\" d=\"M 0 0 \r\n\" style=\"fill:none;stroke:#424242;stroke-linecap:square;stroke-width:2.7;\"/>\r\n   </g>\r\n   <g id=\"line2d_14\">\r\n    <path clip-path=\"url(#p0d4f643016)\" d=\"M 0 0 \r\n\" style=\"fill:none;stroke:#424242;stroke-linecap:square;stroke-width:2.7;\"/>\r\n   </g>\r\n   <g id=\"line2d_15\">\r\n    <path clip-path=\"url(#p0d4f643016)\" d=\"M 0 0 \r\n\" style=\"fill:none;stroke:#424242;stroke-linecap:square;stroke-width:2.7;\"/>\r\n   </g>\r\n   <g id=\"patch_6\">\r\n    <path d=\"M 65.4975 353.037188 \r\nL 65.4975 26.877187 \r\n\" style=\"fill:none;stroke:#000000;stroke-linecap:square;stroke-linejoin:miter;stroke-width:0.8;\"/>\r\n   </g>\r\n   <g id=\"patch_7\">\r\n    <path d=\"M 623.4975 353.037188 \r\nL 623.4975 26.877187 \r\n\" style=\"fill:none;stroke:#000000;stroke-linecap:square;stroke-linejoin:miter;stroke-width:0.8;\"/>\r\n   </g>\r\n   <g id=\"patch_8\">\r\n    <path d=\"M 65.4975 353.037188 \r\nL 623.4975 353.037188 \r\n\" style=\"fill:none;stroke:#000000;stroke-linecap:square;stroke-linejoin:miter;stroke-width:0.8;\"/>\r\n   </g>\r\n   <g id=\"patch_9\">\r\n    <path d=\"M 65.4975 26.877187 \r\nL 623.4975 26.877187 \r\n\" style=\"fill:none;stroke:#000000;stroke-linecap:square;stroke-linejoin:miter;stroke-width:0.8;\"/>\r\n   </g>\r\n   <g id=\"text_15\">\r\n    <!-- Total de óbitos - SRAG -->\r\n    <g transform=\"translate(231.776719 20.877187)scale(0.18 -0.18)\">\r\n     <defs>\r\n      <path d=\"M 0.484375 72.90625 \r\nL 67.671875 72.90625 \r\nL 67.671875 58.6875 \r\nL 43.5 58.6875 \r\nL 43.5 0 \r\nL 24.703125 0 \r\nL 24.703125 58.6875 \r\nL 0.484375 58.6875 \r\nz\r\n\" id=\"DejaVuSans-Bold-84\"/>\r\n      <path d=\"M 34.421875 43.5 \r\nQ 28.609375 43.5 25.5625 39.328125 \r\nQ 22.515625 35.15625 22.515625 27.296875 \r\nQ 22.515625 19.4375 25.5625 15.25 \r\nQ 28.609375 11.078125 34.421875 11.078125 \r\nQ 40.140625 11.078125 43.15625 15.25 \r\nQ 46.1875 19.4375 46.1875 27.296875 \r\nQ 46.1875 35.15625 43.15625 39.328125 \r\nQ 40.140625 43.5 34.421875 43.5 \r\nz\r\nM 34.421875 56 \r\nQ 48.53125 56 56.46875 48.375 \r\nQ 64.40625 40.765625 64.40625 27.296875 \r\nQ 64.40625 13.8125 56.46875 6.1875 \r\nQ 48.53125 -1.421875 34.421875 -1.421875 \r\nQ 20.265625 -1.421875 12.28125 6.1875 \r\nQ 4.296875 13.8125 4.296875 27.296875 \r\nQ 4.296875 40.765625 12.28125 48.375 \r\nQ 20.265625 56 34.421875 56 \r\nz\r\n\" id=\"DejaVuSans-Bold-111\"/>\r\n      <path d=\"M 27.484375 70.21875 \r\nL 27.484375 54.6875 \r\nL 45.515625 54.6875 \r\nL 45.515625 42.1875 \r\nL 27.484375 42.1875 \r\nL 27.484375 19 \r\nQ 27.484375 15.1875 29 13.84375 \r\nQ 30.515625 12.5 35.015625 12.5 \r\nL 44 12.5 \r\nL 44 0 \r\nL 29 0 \r\nQ 18.65625 0 14.328125 4.3125 \r\nQ 10.015625 8.640625 10.015625 19 \r\nL 10.015625 42.1875 \r\nL 1.3125 42.1875 \r\nL 1.3125 54.6875 \r\nL 10.015625 54.6875 \r\nL 10.015625 70.21875 \r\nz\r\n\" id=\"DejaVuSans-Bold-116\"/>\r\n      <path d=\"M 32.90625 24.609375 \r\nQ 27.4375 24.609375 24.671875 22.75 \r\nQ 21.921875 20.90625 21.921875 17.28125 \r\nQ 21.921875 13.96875 24.140625 12.078125 \r\nQ 26.375 10.203125 30.328125 10.203125 \r\nQ 35.25 10.203125 38.625 13.734375 \r\nQ 42 17.28125 42 22.609375 \r\nL 42 24.609375 \r\nz\r\nM 59.625 31.203125 \r\nL 59.625 0 \r\nL 42 0 \r\nL 42 8.109375 \r\nQ 38.484375 3.125 34.078125 0.84375 \r\nQ 29.6875 -1.421875 23.390625 -1.421875 \r\nQ 14.890625 -1.421875 9.59375 3.53125 \r\nQ 4.296875 8.5 4.296875 16.40625 \r\nQ 4.296875 26.03125 10.90625 30.515625 \r\nQ 17.53125 35.015625 31.6875 35.015625 \r\nL 42 35.015625 \r\nL 42 36.375 \r\nQ 42 40.53125 38.71875 42.453125 \r\nQ 35.453125 44.390625 28.515625 44.390625 \r\nQ 22.90625 44.390625 18.0625 43.265625 \r\nQ 13.234375 42.140625 9.078125 39.890625 \r\nL 9.078125 53.21875 \r\nQ 14.703125 54.59375 20.359375 55.296875 \r\nQ 26.03125 56 31.6875 56 \r\nQ 46.484375 56 53.046875 50.171875 \r\nQ 59.625 44.34375 59.625 31.203125 \r\nz\r\n\" id=\"DejaVuSans-Bold-97\"/>\r\n      <path d=\"M 8.40625 75.984375 \r\nL 25.875 75.984375 \r\nL 25.875 0 \r\nL 8.40625 0 \r\nz\r\n\" id=\"DejaVuSans-Bold-108\"/>\r\n      <path id=\"DejaVuSans-Bold-32\"/>\r\n      <path d=\"M 45.609375 46.6875 \r\nL 45.609375 75.984375 \r\nL 63.1875 75.984375 \r\nL 63.1875 0 \r\nL 45.609375 0 \r\nL 45.609375 7.90625 \r\nQ 42 3.078125 37.640625 0.828125 \r\nQ 33.296875 -1.421875 27.59375 -1.421875 \r\nQ 17.484375 -1.421875 10.984375 6.609375 \r\nQ 4.5 14.65625 4.5 27.296875 \r\nQ 4.5 39.9375 10.984375 47.96875 \r\nQ 17.484375 56 27.59375 56 \r\nQ 33.25 56 37.625 53.734375 \r\nQ 42 51.46875 45.609375 46.6875 \r\nz\r\nM 34.078125 11.28125 \r\nQ 39.703125 11.28125 42.65625 15.375 \r\nQ 45.609375 19.484375 45.609375 27.296875 \r\nQ 45.609375 35.109375 42.65625 39.203125 \r\nQ 39.703125 43.3125 34.078125 43.3125 \r\nQ 28.515625 43.3125 25.5625 39.203125 \r\nQ 22.609375 35.109375 22.609375 27.296875 \r\nQ 22.609375 19.484375 25.5625 15.375 \r\nQ 28.515625 11.28125 34.078125 11.28125 \r\nz\r\n\" id=\"DejaVuSans-Bold-100\"/>\r\n      <path d=\"M 62.984375 27.484375 \r\nL 62.984375 22.515625 \r\nL 22.125 22.515625 \r\nQ 22.75 16.359375 26.5625 13.28125 \r\nQ 30.375 10.203125 37.203125 10.203125 \r\nQ 42.71875 10.203125 48.5 11.84375 \r\nQ 54.296875 13.484375 60.40625 16.796875 \r\nL 60.40625 3.328125 \r\nQ 54.203125 0.984375 48 -0.21875 \r\nQ 41.796875 -1.421875 35.59375 -1.421875 \r\nQ 20.75 -1.421875 12.515625 6.125 \r\nQ 4.296875 13.671875 4.296875 27.296875 \r\nQ 4.296875 40.671875 12.375 48.328125 \r\nQ 20.453125 56 34.625 56 \r\nQ 47.515625 56 55.25 48.234375 \r\nQ 62.984375 40.484375 62.984375 27.484375 \r\nz\r\nM 45.015625 33.296875 \r\nQ 45.015625 38.28125 42.109375 41.328125 \r\nQ 39.203125 44.390625 34.515625 44.390625 \r\nQ 29.4375 44.390625 26.265625 41.53125 \r\nQ 23.09375 38.671875 22.3125 33.296875 \r\nz\r\n\" id=\"DejaVuSans-Bold-101\"/>\r\n      <path d=\"M 34.421875 43.5 \r\nQ 28.609375 43.5 25.5625 39.328125 \r\nQ 22.515625 35.15625 22.515625 27.296875 \r\nQ 22.515625 19.4375 25.5625 15.25 \r\nQ 28.609375 11.078125 34.421875 11.078125 \r\nQ 40.140625 11.078125 43.15625 15.25 \r\nQ 46.1875 19.4375 46.1875 27.296875 \r\nQ 46.1875 35.15625 43.15625 39.328125 \r\nQ 40.140625 43.5 34.421875 43.5 \r\nz\r\nM 34.421875 56 \r\nQ 48.53125 56 56.46875 48.375 \r\nQ 64.40625 40.765625 64.40625 27.296875 \r\nQ 64.40625 13.8125 56.46875 6.1875 \r\nQ 48.53125 -1.421875 34.421875 -1.421875 \r\nQ 20.265625 -1.421875 12.28125 6.1875 \r\nQ 4.296875 13.8125 4.296875 27.296875 \r\nQ 4.296875 40.765625 12.28125 48.375 \r\nQ 20.265625 56 34.421875 56 \r\nz\r\nM 42.09375 79.984375 \r\nL 55.90625 79.984375 \r\nL 37.890625 61.625 \r\nL 28.328125 61.625 \r\nz\r\n\" id=\"DejaVuSans-Bold-243\"/>\r\n      <path d=\"M 37.5 11.28125 \r\nQ 43.109375 11.28125 46.0625 15.375 \r\nQ 49.03125 19.484375 49.03125 27.296875 \r\nQ 49.03125 35.109375 46.0625 39.203125 \r\nQ 43.109375 43.3125 37.5 43.3125 \r\nQ 31.890625 43.3125 28.875 39.1875 \r\nQ 25.875 35.0625 25.875 27.296875 \r\nQ 25.875 19.53125 28.875 15.40625 \r\nQ 31.890625 11.28125 37.5 11.28125 \r\nz\r\nM 25.875 46.6875 \r\nQ 29.5 51.46875 33.890625 53.734375 \r\nQ 38.28125 56 44 56 \r\nQ 54.109375 56 60.59375 47.96875 \r\nQ 67.09375 39.9375 67.09375 27.296875 \r\nQ 67.09375 14.65625 60.59375 6.609375 \r\nQ 54.109375 -1.421875 44 -1.421875 \r\nQ 38.28125 -1.421875 33.890625 0.84375 \r\nQ 29.5 3.125 25.875 7.90625 \r\nL 25.875 0 \r\nL 8.40625 0 \r\nL 8.40625 75.984375 \r\nL 25.875 75.984375 \r\nz\r\n\" id=\"DejaVuSans-Bold-98\"/>\r\n      <path d=\"M 8.40625 54.6875 \r\nL 25.875 54.6875 \r\nL 25.875 0 \r\nL 8.40625 0 \r\nz\r\nM 8.40625 75.984375 \r\nL 25.875 75.984375 \r\nL 25.875 61.71875 \r\nL 8.40625 61.71875 \r\nz\r\n\" id=\"DejaVuSans-Bold-105\"/>\r\n      <path d=\"M 51.125 52.984375 \r\nL 51.125 39.703125 \r\nQ 45.515625 42.046875 40.28125 43.21875 \r\nQ 35.0625 44.390625 30.421875 44.390625 \r\nQ 25.4375 44.390625 23.015625 43.140625 \r\nQ 20.609375 41.890625 20.609375 39.3125 \r\nQ 20.609375 37.203125 22.4375 36.078125 \r\nQ 24.265625 34.96875 29 34.421875 \r\nL 32.078125 33.984375 \r\nQ 45.515625 32.28125 50.140625 28.375 \r\nQ 54.78125 24.46875 54.78125 16.109375 \r\nQ 54.78125 7.375 48.328125 2.96875 \r\nQ 41.890625 -1.421875 29.109375 -1.421875 \r\nQ 23.6875 -1.421875 17.890625 -0.5625 \r\nQ 12.109375 0.296875 6 2 \r\nL 6 15.28125 \r\nQ 11.234375 12.75 16.71875 11.46875 \r\nQ 22.21875 10.203125 27.875 10.203125 \r\nQ 33.015625 10.203125 35.59375 11.609375 \r\nQ 38.1875 13.03125 38.1875 15.828125 \r\nQ 38.1875 18.171875 36.40625 19.3125 \r\nQ 34.625 20.453125 29.296875 21.09375 \r\nL 26.21875 21.484375 \r\nQ 14.546875 22.953125 9.859375 26.90625 \r\nQ 5.171875 30.859375 5.171875 38.921875 \r\nQ 5.171875 47.609375 11.125 51.796875 \r\nQ 17.09375 56 29.390625 56 \r\nQ 34.234375 56 39.546875 55.265625 \r\nQ 44.875 54.546875 51.125 52.984375 \r\nz\r\n\" id=\"DejaVuSans-Bold-115\"/>\r\n      <path d=\"M 5.421875 35.890625 \r\nL 36.078125 35.890625 \r\nL 36.078125 21.6875 \r\nL 5.421875 21.6875 \r\nz\r\n\" id=\"DejaVuSans-Bold-45\"/>\r\n      <path d=\"M 59.90625 70.609375 \r\nL 59.90625 55.171875 \r\nQ 53.90625 57.859375 48.1875 59.21875 \r\nQ 42.484375 60.59375 37.40625 60.59375 \r\nQ 30.671875 60.59375 27.4375 58.734375 \r\nQ 24.21875 56.890625 24.21875 52.984375 \r\nQ 24.21875 50.046875 26.390625 48.40625 \r\nQ 28.5625 46.78125 34.28125 45.609375 \r\nL 42.28125 44 \r\nQ 54.4375 41.546875 59.5625 36.5625 \r\nQ 64.703125 31.59375 64.703125 22.40625 \r\nQ 64.703125 10.359375 57.546875 4.46875 \r\nQ 50.390625 -1.421875 35.6875 -1.421875 \r\nQ 28.765625 -1.421875 21.78125 -0.09375 \r\nQ 14.796875 1.21875 7.8125 3.8125 \r\nL 7.8125 19.671875 \r\nQ 14.796875 15.96875 21.3125 14.078125 \r\nQ 27.828125 12.203125 33.890625 12.203125 \r\nQ 40.046875 12.203125 43.3125 14.25 \r\nQ 46.578125 16.3125 46.578125 20.125 \r\nQ 46.578125 23.53125 44.359375 25.390625 \r\nQ 42.140625 27.25 35.5 28.71875 \r\nL 28.21875 30.328125 \r\nQ 17.28125 32.671875 12.21875 37.796875 \r\nQ 7.171875 42.921875 7.171875 51.609375 \r\nQ 7.171875 62.5 14.203125 68.359375 \r\nQ 21.234375 74.21875 34.421875 74.21875 \r\nQ 40.4375 74.21875 46.78125 73.3125 \r\nQ 53.125 72.40625 59.90625 70.609375 \r\nz\r\n\" id=\"DejaVuSans-Bold-83\"/>\r\n      <path d=\"M 35.890625 40.578125 \r\nQ 41.796875 40.578125 44.359375 42.765625 \r\nQ 46.921875 44.96875 46.921875 50 \r\nQ 46.921875 54.984375 44.359375 57.125 \r\nQ 41.796875 59.28125 35.890625 59.28125 \r\nL 27.984375 59.28125 \r\nL 27.984375 40.578125 \r\nz\r\nM 27.984375 27.59375 \r\nL 27.984375 0 \r\nL 9.1875 0 \r\nL 9.1875 72.90625 \r\nL 37.890625 72.90625 \r\nQ 52.296875 72.90625 59 68.0625 \r\nQ 65.71875 63.234375 65.71875 52.78125 \r\nQ 65.71875 45.5625 62.21875 40.921875 \r\nQ 58.734375 36.28125 51.703125 34.078125 \r\nQ 55.5625 33.203125 58.609375 30.09375 \r\nQ 61.671875 27 64.796875 20.703125 \r\nL 75 0 \r\nL 54.984375 0 \r\nL 46.09375 18.109375 \r\nQ 43.40625 23.578125 40.640625 25.578125 \r\nQ 37.890625 27.59375 33.296875 27.59375 \r\nz\r\n\" id=\"DejaVuSans-Bold-82\"/>\r\n      <path d=\"M 53.421875 13.28125 \r\nL 24.03125 13.28125 \r\nL 19.390625 0 \r\nL 0.484375 0 \r\nL 27.484375 72.90625 \r\nL 49.90625 72.90625 \r\nL 76.90625 0 \r\nL 58.015625 0 \r\nz\r\nM 28.71875 26.8125 \r\nL 48.6875 26.8125 \r\nL 38.71875 55.8125 \r\nz\r\n\" id=\"DejaVuSans-Bold-65\"/>\r\n      <path d=\"M 74.703125 5.421875 \r\nQ 67.671875 2 60.109375 0.28125 \r\nQ 52.546875 -1.421875 44.484375 -1.421875 \r\nQ 26.265625 -1.421875 15.625 8.765625 \r\nQ 4.984375 18.953125 4.984375 36.375 \r\nQ 4.984375 54 15.8125 64.109375 \r\nQ 26.65625 74.21875 45.515625 74.21875 \r\nQ 52.78125 74.21875 59.4375 72.84375 \r\nQ 66.109375 71.484375 72.015625 68.796875 \r\nL 72.015625 53.71875 \r\nQ 65.921875 57.171875 59.890625 58.875 \r\nQ 53.859375 60.59375 47.796875 60.59375 \r\nQ 36.578125 60.59375 30.5 54.3125 \r\nQ 24.421875 48.046875 24.421875 36.375 \r\nQ 24.421875 24.8125 30.28125 18.5 \r\nQ 36.140625 12.203125 46.921875 12.203125 \r\nQ 49.859375 12.203125 52.375 12.5625 \r\nQ 54.890625 12.9375 56.890625 13.71875 \r\nL 56.890625 27.875 \r\nL 45.40625 27.875 \r\nL 45.40625 40.484375 \r\nL 74.703125 40.484375 \r\nz\r\n\" id=\"DejaVuSans-Bold-71\"/>\r\n     </defs>\r\n     <use xlink:href=\"#DejaVuSans-Bold-84\"/>\r\n     <use x=\"54.962891\" xlink:href=\"#DejaVuSans-Bold-111\"/>\r\n     <use x=\"123.664062\" xlink:href=\"#DejaVuSans-Bold-116\"/>\r\n     <use x=\"171.466797\" xlink:href=\"#DejaVuSans-Bold-97\"/>\r\n     <use x=\"238.947266\" xlink:href=\"#DejaVuSans-Bold-108\"/>\r\n     <use x=\"273.224609\" xlink:href=\"#DejaVuSans-Bold-32\"/>\r\n     <use x=\"308.039062\" xlink:href=\"#DejaVuSans-Bold-100\"/>\r\n     <use x=\"379.621094\" xlink:href=\"#DejaVuSans-Bold-101\"/>\r\n     <use x=\"447.443359\" xlink:href=\"#DejaVuSans-Bold-32\"/>\r\n     <use x=\"482.257812\" xlink:href=\"#DejaVuSans-Bold-243\"/>\r\n     <use x=\"550.958984\" xlink:href=\"#DejaVuSans-Bold-98\"/>\r\n     <use x=\"622.541016\" xlink:href=\"#DejaVuSans-Bold-105\"/>\r\n     <use x=\"656.818359\" xlink:href=\"#DejaVuSans-Bold-116\"/>\r\n     <use x=\"704.621094\" xlink:href=\"#DejaVuSans-Bold-111\"/>\r\n     <use x=\"773.322266\" xlink:href=\"#DejaVuSans-Bold-115\"/>\r\n     <use x=\"832.84375\" xlink:href=\"#DejaVuSans-Bold-32\"/>\r\n     <use x=\"867.658203\" xlink:href=\"#DejaVuSans-Bold-45\"/>\r\n     <use x=\"909.162109\" xlink:href=\"#DejaVuSans-Bold-32\"/>\r\n     <use x=\"943.976562\" xlink:href=\"#DejaVuSans-Bold-83\"/>\r\n     <use x=\"1015.998047\" xlink:href=\"#DejaVuSans-Bold-82\"/>\r\n     <use x=\"1093\" xlink:href=\"#DejaVuSans-Bold-65\"/>\r\n     <use x=\"1170.392578\" xlink:href=\"#DejaVuSans-Bold-71\"/>\r\n    </g>\r\n   </g>\r\n  </g>\r\n </g>\r\n <defs>\r\n  <clipPath id=\"p0d4f643016\">\r\n   <rect height=\"326.16\" width=\"558\" x=\"65.4975\" y=\"26.877187\"/>\r\n  </clipPath>\r\n </defs>\r\n</svg>\r\n",
      "image/png": "[encoded data removed]"
     },
     "metadata": {
      "needs_background": "light"
     }
    }
   ],
   "source": [
    "grafico_comparativo(\"SRAG\")"
   ]
  },
  {
   "cell_type": "code",
   "execution_count": null,
   "metadata": {},
   "outputs": [],
   "source": []
  }
 ]
}